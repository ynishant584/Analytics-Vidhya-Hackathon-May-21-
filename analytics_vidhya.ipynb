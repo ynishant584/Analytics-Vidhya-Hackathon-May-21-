{
  "nbformat": 4,
  "nbformat_minor": 0,
  "metadata": {
    "colab": {
      "name": "Untitled7.ipynb",
      "provenance": []
    },
    "kernelspec": {
      "name": "python3",
      "display_name": "Python 3"
    },
    "language_info": {
      "name": "python"
    },
    "accelerator": "GPU"
  },
  "cells": [
    {
      "cell_type": "code",
      "metadata": {
        "id": "jMv8HLU2FUHl"
      },
      "source": [
        "# import the Libraries\n",
        "import numpy as np                   \n",
        "import pandas as pd                  \n",
        "import matplotlib.pyplot as plt "
      ],
      "execution_count": 12,
      "outputs": []
    },
    {
      "cell_type": "code",
      "metadata": {
        "id": "nZxzaDtyFVAu"
      },
      "source": [
        "path1 = \"/content/drive/MyDrive/Colab Notebooks/Jobathon/train_s3TEQDk.csv\"\n",
        "path2 = '/content/drive/MyDrive/Colab Notebooks/Jobathon/test_mSzZ8RL.csv'\n",
        "path3 = '/content/drive/MyDrive/Colab Notebooks/Jobathon/sample_submission_eyYijxG.csv'"
      ],
      "execution_count": 13,
      "outputs": []
    },
    {
      "cell_type": "code",
      "metadata": {
        "id": "b_TuukMOFXhZ"
      },
      "source": [
        "# read the datsets\n",
        "train = pd.read_csv(path1)\n",
        "test = pd.read_csv(path2)\n",
        "sample = pd.read_csv(path3)"
      ],
      "execution_count": 14,
      "outputs": []
    },
    {
      "cell_type": "code",
      "metadata": {
        "id": "skb49LHNFZG9"
      },
      "source": [
        "# loosing around 10% data as no correlation was found for Credit_Product with other variables\n",
        "train['Credit_Product']= train['Credit_Product'].fillna('NA')\n",
        "train= train.reset_index(drop=True)"
      ],
      "execution_count": 15,
      "outputs": []
    },
    {
      "cell_type": "code",
      "metadata": {
        "colab": {
          "base_uri": "https://localhost:8080/",
          "height": 224
        },
        "id": "S1PH8sl3Fkrc",
        "outputId": "f1847e59-0141-4b73-b092-50ba9ead1450"
      },
      "source": [
        "# Encoding the categorical data\n",
        "from sklearn.preprocessing import OneHotEncoder\n",
        "\n",
        "oe_style = OneHotEncoder()\n",
        "oe_results = oe_style.fit_transform(train[[\"Occupation\"]])\n",
        "train= train.join(pd.DataFrame(oe_results.toarray(), columns=oe_style.categories_))\n",
        "train.head()"
      ],
      "execution_count": 16,
      "outputs": [
        {
          "output_type": "execute_result",
          "data": {
            "text/html": [
              "<div>\n",
              "<style scoped>\n",
              "    .dataframe tbody tr th:only-of-type {\n",
              "        vertical-align: middle;\n",
              "    }\n",
              "\n",
              "    .dataframe tbody tr th {\n",
              "        vertical-align: top;\n",
              "    }\n",
              "\n",
              "    .dataframe thead th {\n",
              "        text-align: right;\n",
              "    }\n",
              "</style>\n",
              "<table border=\"1\" class=\"dataframe\">\n",
              "  <thead>\n",
              "    <tr style=\"text-align: right;\">\n",
              "      <th></th>\n",
              "      <th>ID</th>\n",
              "      <th>Gender</th>\n",
              "      <th>Age</th>\n",
              "      <th>Region_Code</th>\n",
              "      <th>Occupation</th>\n",
              "      <th>Channel_Code</th>\n",
              "      <th>Vintage</th>\n",
              "      <th>Credit_Product</th>\n",
              "      <th>Avg_Account_Balance</th>\n",
              "      <th>Is_Active</th>\n",
              "      <th>Is_Lead</th>\n",
              "      <th>(Entrepreneur,)</th>\n",
              "      <th>(Other,)</th>\n",
              "      <th>(Salaried,)</th>\n",
              "      <th>(Self_Employed,)</th>\n",
              "    </tr>\n",
              "  </thead>\n",
              "  <tbody>\n",
              "    <tr>\n",
              "      <th>0</th>\n",
              "      <td>NNVBBKZB</td>\n",
              "      <td>Female</td>\n",
              "      <td>73</td>\n",
              "      <td>RG268</td>\n",
              "      <td>Other</td>\n",
              "      <td>X3</td>\n",
              "      <td>43</td>\n",
              "      <td>No</td>\n",
              "      <td>1045696</td>\n",
              "      <td>No</td>\n",
              "      <td>0</td>\n",
              "      <td>0.0</td>\n",
              "      <td>1.0</td>\n",
              "      <td>0.0</td>\n",
              "      <td>0.0</td>\n",
              "    </tr>\n",
              "    <tr>\n",
              "      <th>1</th>\n",
              "      <td>IDD62UNG</td>\n",
              "      <td>Female</td>\n",
              "      <td>30</td>\n",
              "      <td>RG277</td>\n",
              "      <td>Salaried</td>\n",
              "      <td>X1</td>\n",
              "      <td>32</td>\n",
              "      <td>No</td>\n",
              "      <td>581988</td>\n",
              "      <td>No</td>\n",
              "      <td>0</td>\n",
              "      <td>0.0</td>\n",
              "      <td>0.0</td>\n",
              "      <td>1.0</td>\n",
              "      <td>0.0</td>\n",
              "    </tr>\n",
              "    <tr>\n",
              "      <th>2</th>\n",
              "      <td>HD3DSEMC</td>\n",
              "      <td>Female</td>\n",
              "      <td>56</td>\n",
              "      <td>RG268</td>\n",
              "      <td>Self_Employed</td>\n",
              "      <td>X3</td>\n",
              "      <td>26</td>\n",
              "      <td>No</td>\n",
              "      <td>1484315</td>\n",
              "      <td>Yes</td>\n",
              "      <td>0</td>\n",
              "      <td>0.0</td>\n",
              "      <td>0.0</td>\n",
              "      <td>0.0</td>\n",
              "      <td>1.0</td>\n",
              "    </tr>\n",
              "    <tr>\n",
              "      <th>3</th>\n",
              "      <td>BF3NC7KV</td>\n",
              "      <td>Male</td>\n",
              "      <td>34</td>\n",
              "      <td>RG270</td>\n",
              "      <td>Salaried</td>\n",
              "      <td>X1</td>\n",
              "      <td>19</td>\n",
              "      <td>No</td>\n",
              "      <td>470454</td>\n",
              "      <td>No</td>\n",
              "      <td>0</td>\n",
              "      <td>0.0</td>\n",
              "      <td>0.0</td>\n",
              "      <td>1.0</td>\n",
              "      <td>0.0</td>\n",
              "    </tr>\n",
              "    <tr>\n",
              "      <th>4</th>\n",
              "      <td>TEASRWXV</td>\n",
              "      <td>Female</td>\n",
              "      <td>30</td>\n",
              "      <td>RG282</td>\n",
              "      <td>Salaried</td>\n",
              "      <td>X1</td>\n",
              "      <td>33</td>\n",
              "      <td>No</td>\n",
              "      <td>886787</td>\n",
              "      <td>No</td>\n",
              "      <td>0</td>\n",
              "      <td>0.0</td>\n",
              "      <td>0.0</td>\n",
              "      <td>1.0</td>\n",
              "      <td>0.0</td>\n",
              "    </tr>\n",
              "  </tbody>\n",
              "</table>\n",
              "</div>"
            ],
            "text/plain": [
              "         ID  Gender  Age  ... (Other,) (Salaried,) (Self_Employed,)\n",
              "0  NNVBBKZB  Female   73  ...      1.0         0.0              0.0\n",
              "1  IDD62UNG  Female   30  ...      0.0         1.0              0.0\n",
              "2  HD3DSEMC  Female   56  ...      0.0         0.0              1.0\n",
              "3  BF3NC7KV    Male   34  ...      0.0         1.0              0.0\n",
              "4  TEASRWXV  Female   30  ...      0.0         1.0              0.0\n",
              "\n",
              "[5 rows x 15 columns]"
            ]
          },
          "metadata": {
            "tags": []
          },
          "execution_count": 16
        }
      ]
    },
    {
      "cell_type": "code",
      "metadata": {
        "colab": {
          "base_uri": "https://localhost:8080/",
          "height": 224
        },
        "id": "JHzEXuAoFnB1",
        "outputId": "e25228d3-2064-421b-cb8c-74bdb0b34c1f"
      },
      "source": [
        "# Encoding the categorical data\n",
        "from sklearn.preprocessing import OneHotEncoder\n",
        "\n",
        "oe_style = OneHotEncoder()\n",
        "oe_results = oe_style.fit_transform(train[[\"Channel_Code\"]])\n",
        "train = train.join(pd.DataFrame(oe_results.toarray(), columns=oe_style.categories_))\n",
        "train.head()"
      ],
      "execution_count": 17,
      "outputs": [
        {
          "output_type": "execute_result",
          "data": {
            "text/html": [
              "<div>\n",
              "<style scoped>\n",
              "    .dataframe tbody tr th:only-of-type {\n",
              "        vertical-align: middle;\n",
              "    }\n",
              "\n",
              "    .dataframe tbody tr th {\n",
              "        vertical-align: top;\n",
              "    }\n",
              "\n",
              "    .dataframe thead th {\n",
              "        text-align: right;\n",
              "    }\n",
              "</style>\n",
              "<table border=\"1\" class=\"dataframe\">\n",
              "  <thead>\n",
              "    <tr style=\"text-align: right;\">\n",
              "      <th></th>\n",
              "      <th>ID</th>\n",
              "      <th>Gender</th>\n",
              "      <th>Age</th>\n",
              "      <th>Region_Code</th>\n",
              "      <th>Occupation</th>\n",
              "      <th>Channel_Code</th>\n",
              "      <th>Vintage</th>\n",
              "      <th>Credit_Product</th>\n",
              "      <th>Avg_Account_Balance</th>\n",
              "      <th>Is_Active</th>\n",
              "      <th>Is_Lead</th>\n",
              "      <th>(Entrepreneur,)</th>\n",
              "      <th>(Other,)</th>\n",
              "      <th>(Salaried,)</th>\n",
              "      <th>(Self_Employed,)</th>\n",
              "      <th>(X1,)</th>\n",
              "      <th>(X2,)</th>\n",
              "      <th>(X3,)</th>\n",
              "      <th>(X4,)</th>\n",
              "    </tr>\n",
              "  </thead>\n",
              "  <tbody>\n",
              "    <tr>\n",
              "      <th>0</th>\n",
              "      <td>NNVBBKZB</td>\n",
              "      <td>Female</td>\n",
              "      <td>73</td>\n",
              "      <td>RG268</td>\n",
              "      <td>Other</td>\n",
              "      <td>X3</td>\n",
              "      <td>43</td>\n",
              "      <td>No</td>\n",
              "      <td>1045696</td>\n",
              "      <td>No</td>\n",
              "      <td>0</td>\n",
              "      <td>0.0</td>\n",
              "      <td>1.0</td>\n",
              "      <td>0.0</td>\n",
              "      <td>0.0</td>\n",
              "      <td>0.0</td>\n",
              "      <td>0.0</td>\n",
              "      <td>1.0</td>\n",
              "      <td>0.0</td>\n",
              "    </tr>\n",
              "    <tr>\n",
              "      <th>1</th>\n",
              "      <td>IDD62UNG</td>\n",
              "      <td>Female</td>\n",
              "      <td>30</td>\n",
              "      <td>RG277</td>\n",
              "      <td>Salaried</td>\n",
              "      <td>X1</td>\n",
              "      <td>32</td>\n",
              "      <td>No</td>\n",
              "      <td>581988</td>\n",
              "      <td>No</td>\n",
              "      <td>0</td>\n",
              "      <td>0.0</td>\n",
              "      <td>0.0</td>\n",
              "      <td>1.0</td>\n",
              "      <td>0.0</td>\n",
              "      <td>1.0</td>\n",
              "      <td>0.0</td>\n",
              "      <td>0.0</td>\n",
              "      <td>0.0</td>\n",
              "    </tr>\n",
              "    <tr>\n",
              "      <th>2</th>\n",
              "      <td>HD3DSEMC</td>\n",
              "      <td>Female</td>\n",
              "      <td>56</td>\n",
              "      <td>RG268</td>\n",
              "      <td>Self_Employed</td>\n",
              "      <td>X3</td>\n",
              "      <td>26</td>\n",
              "      <td>No</td>\n",
              "      <td>1484315</td>\n",
              "      <td>Yes</td>\n",
              "      <td>0</td>\n",
              "      <td>0.0</td>\n",
              "      <td>0.0</td>\n",
              "      <td>0.0</td>\n",
              "      <td>1.0</td>\n",
              "      <td>0.0</td>\n",
              "      <td>0.0</td>\n",
              "      <td>1.0</td>\n",
              "      <td>0.0</td>\n",
              "    </tr>\n",
              "    <tr>\n",
              "      <th>3</th>\n",
              "      <td>BF3NC7KV</td>\n",
              "      <td>Male</td>\n",
              "      <td>34</td>\n",
              "      <td>RG270</td>\n",
              "      <td>Salaried</td>\n",
              "      <td>X1</td>\n",
              "      <td>19</td>\n",
              "      <td>No</td>\n",
              "      <td>470454</td>\n",
              "      <td>No</td>\n",
              "      <td>0</td>\n",
              "      <td>0.0</td>\n",
              "      <td>0.0</td>\n",
              "      <td>1.0</td>\n",
              "      <td>0.0</td>\n",
              "      <td>1.0</td>\n",
              "      <td>0.0</td>\n",
              "      <td>0.0</td>\n",
              "      <td>0.0</td>\n",
              "    </tr>\n",
              "    <tr>\n",
              "      <th>4</th>\n",
              "      <td>TEASRWXV</td>\n",
              "      <td>Female</td>\n",
              "      <td>30</td>\n",
              "      <td>RG282</td>\n",
              "      <td>Salaried</td>\n",
              "      <td>X1</td>\n",
              "      <td>33</td>\n",
              "      <td>No</td>\n",
              "      <td>886787</td>\n",
              "      <td>No</td>\n",
              "      <td>0</td>\n",
              "      <td>0.0</td>\n",
              "      <td>0.0</td>\n",
              "      <td>1.0</td>\n",
              "      <td>0.0</td>\n",
              "      <td>1.0</td>\n",
              "      <td>0.0</td>\n",
              "      <td>0.0</td>\n",
              "      <td>0.0</td>\n",
              "    </tr>\n",
              "  </tbody>\n",
              "</table>\n",
              "</div>"
            ],
            "text/plain": [
              "         ID  Gender  Age Region_Code  ... (X1,) (X2,)  (X3,) (X4,)\n",
              "0  NNVBBKZB  Female   73       RG268  ...   0.0   0.0    1.0   0.0\n",
              "1  IDD62UNG  Female   30       RG277  ...   1.0   0.0    0.0   0.0\n",
              "2  HD3DSEMC  Female   56       RG268  ...   0.0   0.0    1.0   0.0\n",
              "3  BF3NC7KV    Male   34       RG270  ...   1.0   0.0    0.0   0.0\n",
              "4  TEASRWXV  Female   30       RG282  ...   1.0   0.0    0.0   0.0\n",
              "\n",
              "[5 rows x 19 columns]"
            ]
          },
          "metadata": {
            "tags": []
          },
          "execution_count": 17
        }
      ]
    },
    {
      "cell_type": "code",
      "metadata": {
        "id": "D64dJItCFpSY"
      },
      "source": [
        "# Encoding the categorical data\n",
        "from sklearn.preprocessing import OneHotEncoder\n",
        "\n",
        "oe_style = OneHotEncoder()\n",
        "oe_results = oe_style.fit_transform(train[[\"Region_Code\"]])\n",
        "train = train.join(pd.DataFrame(oe_results.toarray(), columns=oe_style.categories_))\n"
      ],
      "execution_count": 18,
      "outputs": []
    },
    {
      "cell_type": "code",
      "metadata": {
        "colab": {
          "base_uri": "https://localhost:8080/"
        },
        "id": "vmiAvW2UFrIC",
        "outputId": "65d9dd20-c78b-4bcf-b728-715bbd3d9c15"
      },
      "source": [
        "from sklearn.preprocessing import LabelEncoder\n",
        "\n",
        "lb_make = LabelEncoder()\n",
        "train['Gender'] = lb_make.fit_transform(train['Gender'])\n",
        "train['Is_Active'] = lb_make.fit_transform(train['Is_Active'])\n",
        "train['Credit_Product'] = lb_make.fit_transform(train['Credit_Product'])\n",
        "train.shape"
      ],
      "execution_count": 19,
      "outputs": [
        {
          "output_type": "execute_result",
          "data": {
            "text/plain": [
              "(245725, 54)"
            ]
          },
          "metadata": {
            "tags": []
          },
          "execution_count": 19
        }
      ]
    },
    {
      "cell_type": "code",
      "metadata": {
        "id": "tlEsipKhFs1H"
      },
      "source": [
        "tr = train.drop(['ID','Region_Code','Occupation','Channel_Code'],axis = 1)\n",
        "X = tr.drop(['Is_Lead'],axis=1)\n",
        "y = tr[['Is_Lead']]"
      ],
      "execution_count": 20,
      "outputs": []
    },
    {
      "cell_type": "code",
      "metadata": {
        "colab": {
          "base_uri": "https://localhost:8080/"
        },
        "id": "mjSTtKkuFvCF",
        "outputId": "d7c41234-23a5-4599-ab29-0cebc46c5cdf"
      },
      "source": [
        "# split the dataset into test set and train set\n",
        "from sklearn.model_selection import train_test_split\n",
        "X_train, X_test, y_train, y_test =train_test_split(X,y, test_size= 0.2, random_state=0)\n",
        "X.isnull().sum()"
      ],
      "execution_count": 21,
      "outputs": [
        {
          "output_type": "execute_result",
          "data": {
            "text/plain": [
              "Gender                 0\n",
              "Age                    0\n",
              "Vintage                0\n",
              "Credit_Product         0\n",
              "Avg_Account_Balance    0\n",
              "Is_Active              0\n",
              "(Entrepreneur,)        0\n",
              "(Other,)               0\n",
              "(Salaried,)            0\n",
              "(Self_Employed,)       0\n",
              "(X1,)                  0\n",
              "(X2,)                  0\n",
              "(X3,)                  0\n",
              "(X4,)                  0\n",
              "(RG250,)               0\n",
              "(RG251,)               0\n",
              "(RG252,)               0\n",
              "(RG253,)               0\n",
              "(RG254,)               0\n",
              "(RG255,)               0\n",
              "(RG256,)               0\n",
              "(RG257,)               0\n",
              "(RG258,)               0\n",
              "(RG259,)               0\n",
              "(RG260,)               0\n",
              "(RG261,)               0\n",
              "(RG262,)               0\n",
              "(RG263,)               0\n",
              "(RG264,)               0\n",
              "(RG265,)               0\n",
              "(RG266,)               0\n",
              "(RG267,)               0\n",
              "(RG268,)               0\n",
              "(RG269,)               0\n",
              "(RG270,)               0\n",
              "(RG271,)               0\n",
              "(RG272,)               0\n",
              "(RG273,)               0\n",
              "(RG274,)               0\n",
              "(RG275,)               0\n",
              "(RG276,)               0\n",
              "(RG277,)               0\n",
              "(RG278,)               0\n",
              "(RG279,)               0\n",
              "(RG280,)               0\n",
              "(RG281,)               0\n",
              "(RG282,)               0\n",
              "(RG283,)               0\n",
              "(RG284,)               0\n",
              "dtype: int64"
            ]
          },
          "metadata": {
            "tags": []
          },
          "execution_count": 21
        }
      ]
    },
    {
      "cell_type": "code",
      "metadata": {
        "id": "_dYjr8M7FxWF"
      },
      "source": [
        ""
      ],
      "execution_count": 21,
      "outputs": []
    },
    {
      "cell_type": "code",
      "metadata": {
        "colab": {
          "base_uri": "https://localhost:8080/"
        },
        "id": "efvF55OtF0UN",
        "outputId": "232fa091-3b4f-43c9-d795-85c0dc1fdd78"
      },
      "source": [
        "from xgboost import XGBClassifier\n",
        "\n",
        "my_model =  XGBClassifier()\n",
        "my_model.fit(X_train, y_train)"
      ],
      "execution_count": 22,
      "outputs": [
        {
          "output_type": "stream",
          "text": [
            "/usr/local/lib/python3.7/dist-packages/sklearn/preprocessing/_label.py:235: DataConversionWarning: A column-vector y was passed when a 1d array was expected. Please change the shape of y to (n_samples, ), for example using ravel().\n",
            "  y = column_or_1d(y, warn=True)\n",
            "/usr/local/lib/python3.7/dist-packages/sklearn/preprocessing/_label.py:268: DataConversionWarning: A column-vector y was passed when a 1d array was expected. Please change the shape of y to (n_samples, ), for example using ravel().\n",
            "  y = column_or_1d(y, warn=True)\n"
          ],
          "name": "stderr"
        },
        {
          "output_type": "execute_result",
          "data": {
            "text/plain": [
              "XGBClassifier(base_score=0.5, booster='gbtree', colsample_bylevel=1,\n",
              "              colsample_bynode=1, colsample_bytree=1, gamma=0,\n",
              "              learning_rate=0.1, max_delta_step=0, max_depth=3,\n",
              "              min_child_weight=1, missing=None, n_estimators=100, n_jobs=1,\n",
              "              nthread=None, objective='binary:logistic', random_state=0,\n",
              "              reg_alpha=0, reg_lambda=1, scale_pos_weight=1, seed=None,\n",
              "              silent=None, subsample=1, verbosity=1)"
            ]
          },
          "metadata": {
            "tags": []
          },
          "execution_count": 22
        }
      ]
    },
    {
      "cell_type": "code",
      "metadata": {
        "colab": {
          "base_uri": "https://localhost:8080/"
        },
        "id": "2QBTyGMRF3_B",
        "outputId": "4a5f0cc1-238f-4b3b-a018-37f8e66245cf"
      },
      "source": [
        "y_pred = my_model.predict(X_test)\n",
        "y_pred = (y_pred>0.5)\n",
        "y_pred"
      ],
      "execution_count": 23,
      "outputs": [
        {
          "output_type": "execute_result",
          "data": {
            "text/plain": [
              "array([False, False, False, ..., False, False, False])"
            ]
          },
          "metadata": {
            "tags": []
          },
          "execution_count": 23
        }
      ]
    },
    {
      "cell_type": "code",
      "metadata": {
        "colab": {
          "base_uri": "https://localhost:8080/"
        },
        "id": "57mlziStF_bv",
        "outputId": "20aec320-524c-4592-d5e7-92d2bc3d6be9"
      },
      "source": [
        "# Confusion Metric\n",
        "from sklearn.metrics import confusion_matrix\n",
        "confusion_metric = confusion_matrix(y_test, y_pred)\n",
        "confusion_metric"
      ],
      "execution_count": 24,
      "outputs": [
        {
          "output_type": "execute_result",
          "data": {
            "text/plain": [
              "array([[36123,  1388],\n",
              "       [ 5431,  6203]])"
            ]
          },
          "metadata": {
            "tags": []
          },
          "execution_count": 24
        }
      ]
    },
    {
      "cell_type": "code",
      "metadata": {
        "colab": {
          "base_uri": "https://localhost:8080/"
        },
        "id": "t4x5bS4jHfSS",
        "outputId": "ce18ffd8-6622-42b1-eea8-749ecf7ece5a"
      },
      "source": [
        "# accuracy score\n",
        "from sklearn.metrics import accuracy_score\n",
        "accuracy_score = accuracy_score(y_test, y_pred)\n",
        "accuracy_score"
      ],
      "execution_count": 25,
      "outputs": [
        {
          "output_type": "execute_result",
          "data": {
            "text/plain": [
              "0.8612473293315699"
            ]
          },
          "metadata": {
            "tags": []
          },
          "execution_count": 25
        }
      ]
    },
    {
      "cell_type": "code",
      "metadata": {
        "colab": {
          "base_uri": "https://localhost:8080/"
        },
        "id": "Cbq8VifjHiVv",
        "outputId": "1c3b22e6-3f6c-4d0d-d9ab-5fd2541d410f"
      },
      "source": [
        "from sklearn.metrics import roc_auc_score\n",
        "roc_auc_score = roc_auc_score(y_test, y_pred)\n",
        "roc_auc_score"
      ],
      "execution_count": 26,
      "outputs": [
        {
          "output_type": "execute_result",
          "data": {
            "text/plain": [
              "0.7480880675666524"
            ]
          },
          "metadata": {
            "tags": []
          },
          "execution_count": 26
        }
      ]
    },
    {
      "cell_type": "code",
      "metadata": {
        "colab": {
          "base_uri": "https://localhost:8080/",
          "height": 204
        },
        "id": "ZQmAW0_aJdsg",
        "outputId": "17faa5ab-69e4-4c98-d831-c44667c5f08a"
      },
      "source": [
        "test.head()"
      ],
      "execution_count": 27,
      "outputs": [
        {
          "output_type": "execute_result",
          "data": {
            "text/html": [
              "<div>\n",
              "<style scoped>\n",
              "    .dataframe tbody tr th:only-of-type {\n",
              "        vertical-align: middle;\n",
              "    }\n",
              "\n",
              "    .dataframe tbody tr th {\n",
              "        vertical-align: top;\n",
              "    }\n",
              "\n",
              "    .dataframe thead th {\n",
              "        text-align: right;\n",
              "    }\n",
              "</style>\n",
              "<table border=\"1\" class=\"dataframe\">\n",
              "  <thead>\n",
              "    <tr style=\"text-align: right;\">\n",
              "      <th></th>\n",
              "      <th>ID</th>\n",
              "      <th>Gender</th>\n",
              "      <th>Age</th>\n",
              "      <th>Region_Code</th>\n",
              "      <th>Occupation</th>\n",
              "      <th>Channel_Code</th>\n",
              "      <th>Vintage</th>\n",
              "      <th>Credit_Product</th>\n",
              "      <th>Avg_Account_Balance</th>\n",
              "      <th>Is_Active</th>\n",
              "    </tr>\n",
              "  </thead>\n",
              "  <tbody>\n",
              "    <tr>\n",
              "      <th>0</th>\n",
              "      <td>VBENBARO</td>\n",
              "      <td>Male</td>\n",
              "      <td>29</td>\n",
              "      <td>RG254</td>\n",
              "      <td>Other</td>\n",
              "      <td>X1</td>\n",
              "      <td>25</td>\n",
              "      <td>Yes</td>\n",
              "      <td>742366</td>\n",
              "      <td>No</td>\n",
              "    </tr>\n",
              "    <tr>\n",
              "      <th>1</th>\n",
              "      <td>CCMEWNKY</td>\n",
              "      <td>Male</td>\n",
              "      <td>43</td>\n",
              "      <td>RG268</td>\n",
              "      <td>Other</td>\n",
              "      <td>X2</td>\n",
              "      <td>49</td>\n",
              "      <td>NaN</td>\n",
              "      <td>925537</td>\n",
              "      <td>No</td>\n",
              "    </tr>\n",
              "    <tr>\n",
              "      <th>2</th>\n",
              "      <td>VK3KGA9M</td>\n",
              "      <td>Male</td>\n",
              "      <td>31</td>\n",
              "      <td>RG270</td>\n",
              "      <td>Salaried</td>\n",
              "      <td>X1</td>\n",
              "      <td>14</td>\n",
              "      <td>No</td>\n",
              "      <td>215949</td>\n",
              "      <td>No</td>\n",
              "    </tr>\n",
              "    <tr>\n",
              "      <th>3</th>\n",
              "      <td>TT8RPZVC</td>\n",
              "      <td>Male</td>\n",
              "      <td>29</td>\n",
              "      <td>RG272</td>\n",
              "      <td>Other</td>\n",
              "      <td>X1</td>\n",
              "      <td>33</td>\n",
              "      <td>No</td>\n",
              "      <td>868070</td>\n",
              "      <td>No</td>\n",
              "    </tr>\n",
              "    <tr>\n",
              "      <th>4</th>\n",
              "      <td>SHQZEYTZ</td>\n",
              "      <td>Female</td>\n",
              "      <td>29</td>\n",
              "      <td>RG270</td>\n",
              "      <td>Other</td>\n",
              "      <td>X1</td>\n",
              "      <td>19</td>\n",
              "      <td>No</td>\n",
              "      <td>657087</td>\n",
              "      <td>No</td>\n",
              "    </tr>\n",
              "  </tbody>\n",
              "</table>\n",
              "</div>"
            ],
            "text/plain": [
              "         ID  Gender  Age  ... Credit_Product Avg_Account_Balance Is_Active\n",
              "0  VBENBARO    Male   29  ...            Yes              742366        No\n",
              "1  CCMEWNKY    Male   43  ...            NaN              925537        No\n",
              "2  VK3KGA9M    Male   31  ...             No              215949        No\n",
              "3  TT8RPZVC    Male   29  ...             No              868070        No\n",
              "4  SHQZEYTZ  Female   29  ...             No              657087        No\n",
              "\n",
              "[5 rows x 10 columns]"
            ]
          },
          "metadata": {
            "tags": []
          },
          "execution_count": 27
        }
      ]
    },
    {
      "cell_type": "code",
      "metadata": {
        "colab": {
          "base_uri": "https://localhost:8080/"
        },
        "id": "4w9Bq2M8Lc_l",
        "outputId": "72ae0d43-2e0f-4c8f-fc46-a27fcfd4ba9d"
      },
      "source": [
        "test.isnull().sum()"
      ],
      "execution_count": 28,
      "outputs": [
        {
          "output_type": "execute_result",
          "data": {
            "text/plain": [
              "ID                         0\n",
              "Gender                     0\n",
              "Age                        0\n",
              "Region_Code                0\n",
              "Occupation                 0\n",
              "Channel_Code               0\n",
              "Vintage                    0\n",
              "Credit_Product         12522\n",
              "Avg_Account_Balance        0\n",
              "Is_Active                  0\n",
              "dtype: int64"
            ]
          },
          "metadata": {
            "tags": []
          },
          "execution_count": 28
        }
      ]
    },
    {
      "cell_type": "code",
      "metadata": {
        "colab": {
          "base_uri": "https://localhost:8080/"
        },
        "id": "lYeV1x2GL-qp",
        "outputId": "211b3f82-14f6-48bc-9249-b3167f4bcc02"
      },
      "source": [
        "train['Credit_Product'].value_counts()"
      ],
      "execution_count": 29,
      "outputs": [
        {
          "output_type": "execute_result",
          "data": {
            "text/plain": [
              "1    144357\n",
              "2     72043\n",
              "0     29325\n",
              "Name: Credit_Product, dtype: int64"
            ]
          },
          "metadata": {
            "tags": []
          },
          "execution_count": 29
        }
      ]
    },
    {
      "cell_type": "code",
      "metadata": {
        "colab": {
          "base_uri": "https://localhost:8080/"
        },
        "id": "U6i-i5BgV5kn",
        "outputId": "65bbccdd-672d-42fd-8a86-d8e4eb417423"
      },
      "source": [
        "from sklearn.ensemble import RandomForestClassifier\n",
        "forest = RandomForestClassifier(random_state = 0)\n",
        "forest.fit(X_train, y_train)"
      ],
      "execution_count": 31,
      "outputs": [
        {
          "output_type": "stream",
          "text": [
            "/usr/local/lib/python3.7/dist-packages/ipykernel_launcher.py:3: DataConversionWarning: A column-vector y was passed when a 1d array was expected. Please change the shape of y to (n_samples,), for example using ravel().\n",
            "  This is separate from the ipykernel package so we can avoid doing imports until\n"
          ],
          "name": "stderr"
        },
        {
          "output_type": "execute_result",
          "data": {
            "text/plain": [
              "RandomForestClassifier(bootstrap=True, ccp_alpha=0.0, class_weight=None,\n",
              "                       criterion='gini', max_depth=None, max_features='auto',\n",
              "                       max_leaf_nodes=None, max_samples=None,\n",
              "                       min_impurity_decrease=0.0, min_impurity_split=None,\n",
              "                       min_samples_leaf=1, min_samples_split=2,\n",
              "                       min_weight_fraction_leaf=0.0, n_estimators=100,\n",
              "                       n_jobs=None, oob_score=False, random_state=0, verbose=0,\n",
              "                       warm_start=False)"
            ]
          },
          "metadata": {
            "tags": []
          },
          "execution_count": 31
        }
      ]
    },
    {
      "cell_type": "code",
      "metadata": {
        "colab": {
          "base_uri": "https://localhost:8080/"
        },
        "id": "Hfd7uW7NGfyf",
        "outputId": "34428c81-2962-4267-8a28-5c33237fbdec"
      },
      "source": [
        "from sklearn.metrics import confusion_matrix, accuracy_score\n",
        "y_pred = forest.predict(X_test)\n",
        "cm = confusion_matrix(y_test, y_pred)\n",
        "print(cm)\n",
        "accuracy_score(y_test, y_pred)"
      ],
      "execution_count": 33,
      "outputs": [
        {
          "output_type": "stream",
          "text": [
            "[[35279  2232]\n",
            " [ 5027  6607]]\n"
          ],
          "name": "stdout"
        },
        {
          "output_type": "execute_result",
          "data": {
            "text/plain": [
              "0.8522942313561909"
            ]
          },
          "metadata": {
            "tags": []
          },
          "execution_count": 33
        }
      ]
    },
    {
      "cell_type": "code",
      "metadata": {
        "colab": {
          "base_uri": "https://localhost:8080/"
        },
        "id": "70C8T_rjGtT1",
        "outputId": "29d5cb4a-b192-45de-8fe2-68c3cc6df23e"
      },
      "source": [
        "from sklearn.metrics import roc_auc_score\n",
        "roc_auc_score = roc_auc_score(y_test, y_pred)\n",
        "roc_auc_score"
      ],
      "execution_count": 34,
      "outputs": [
        {
          "output_type": "execute_result",
          "data": {
            "text/plain": [
              "0.75420093608253"
            ]
          },
          "metadata": {
            "tags": []
          },
          "execution_count": 34
        }
      ]
    },
    {
      "cell_type": "code",
      "metadata": {
        "colab": {
          "base_uri": "https://localhost:8080/",
          "height": 317
        },
        "id": "PbxprjZbHJy3",
        "outputId": "a7e20dd7-9f48-4ed1-e9df-4fe1d8761725"
      },
      "source": [
        "train.describe()"
      ],
      "execution_count": 35,
      "outputs": [
        {
          "output_type": "execute_result",
          "data": {
            "text/html": [
              "<div>\n",
              "<style scoped>\n",
              "    .dataframe tbody tr th:only-of-type {\n",
              "        vertical-align: middle;\n",
              "    }\n",
              "\n",
              "    .dataframe tbody tr th {\n",
              "        vertical-align: top;\n",
              "    }\n",
              "\n",
              "    .dataframe thead th {\n",
              "        text-align: right;\n",
              "    }\n",
              "</style>\n",
              "<table border=\"1\" class=\"dataframe\">\n",
              "  <thead>\n",
              "    <tr style=\"text-align: right;\">\n",
              "      <th></th>\n",
              "      <th>Gender</th>\n",
              "      <th>Age</th>\n",
              "      <th>Vintage</th>\n",
              "      <th>Credit_Product</th>\n",
              "      <th>Avg_Account_Balance</th>\n",
              "      <th>Is_Active</th>\n",
              "      <th>Is_Lead</th>\n",
              "      <th>(Entrepreneur,)</th>\n",
              "      <th>(Other,)</th>\n",
              "      <th>(Salaried,)</th>\n",
              "      <th>(Self_Employed,)</th>\n",
              "      <th>(X1,)</th>\n",
              "      <th>(X2,)</th>\n",
              "      <th>(X3,)</th>\n",
              "      <th>(X4,)</th>\n",
              "      <th>(RG250,)</th>\n",
              "      <th>(RG251,)</th>\n",
              "      <th>(RG252,)</th>\n",
              "      <th>(RG253,)</th>\n",
              "      <th>(RG254,)</th>\n",
              "      <th>(RG255,)</th>\n",
              "      <th>(RG256,)</th>\n",
              "      <th>(RG257,)</th>\n",
              "      <th>(RG258,)</th>\n",
              "      <th>(RG259,)</th>\n",
              "      <th>(RG260,)</th>\n",
              "      <th>(RG261,)</th>\n",
              "      <th>(RG262,)</th>\n",
              "      <th>(RG263,)</th>\n",
              "      <th>(RG264,)</th>\n",
              "      <th>(RG265,)</th>\n",
              "      <th>(RG266,)</th>\n",
              "      <th>(RG267,)</th>\n",
              "      <th>(RG268,)</th>\n",
              "      <th>(RG269,)</th>\n",
              "      <th>(RG270,)</th>\n",
              "      <th>(RG271,)</th>\n",
              "      <th>(RG272,)</th>\n",
              "      <th>(RG273,)</th>\n",
              "      <th>(RG274,)</th>\n",
              "      <th>(RG275,)</th>\n",
              "      <th>(RG276,)</th>\n",
              "      <th>(RG277,)</th>\n",
              "      <th>(RG278,)</th>\n",
              "      <th>(RG279,)</th>\n",
              "      <th>(RG280,)</th>\n",
              "      <th>(RG281,)</th>\n",
              "      <th>(RG282,)</th>\n",
              "      <th>(RG283,)</th>\n",
              "      <th>(RG284,)</th>\n",
              "    </tr>\n",
              "  </thead>\n",
              "  <tbody>\n",
              "    <tr>\n",
              "      <th>count</th>\n",
              "      <td>245725.000000</td>\n",
              "      <td>245725.000000</td>\n",
              "      <td>245725.000000</td>\n",
              "      <td>245725.000000</td>\n",
              "      <td>2.457250e+05</td>\n",
              "      <td>245725.000000</td>\n",
              "      <td>245725.000000</td>\n",
              "      <td>245725.000000</td>\n",
              "      <td>245725.000000</td>\n",
              "      <td>245725.000000</td>\n",
              "      <td>245725.000000</td>\n",
              "      <td>245725.000000</td>\n",
              "      <td>245725.000000</td>\n",
              "      <td>245725.000000</td>\n",
              "      <td>245725.000000</td>\n",
              "      <td>245725.000000</td>\n",
              "      <td>245725.000000</td>\n",
              "      <td>245725.000000</td>\n",
              "      <td>245725.000000</td>\n",
              "      <td>245725.000000</td>\n",
              "      <td>245725.000000</td>\n",
              "      <td>245725.000000</td>\n",
              "      <td>245725.000000</td>\n",
              "      <td>245725.000000</td>\n",
              "      <td>245725.000000</td>\n",
              "      <td>245725.000000</td>\n",
              "      <td>245725.000000</td>\n",
              "      <td>245725.000000</td>\n",
              "      <td>245725.000000</td>\n",
              "      <td>245725.000000</td>\n",
              "      <td>245725.000000</td>\n",
              "      <td>245725.000000</td>\n",
              "      <td>245725.000000</td>\n",
              "      <td>245725.000000</td>\n",
              "      <td>245725.000000</td>\n",
              "      <td>245725.000000</td>\n",
              "      <td>245725.000000</td>\n",
              "      <td>245725.000000</td>\n",
              "      <td>245725.000000</td>\n",
              "      <td>245725.000000</td>\n",
              "      <td>245725.000000</td>\n",
              "      <td>245725.000000</td>\n",
              "      <td>245725.000000</td>\n",
              "      <td>245725.000000</td>\n",
              "      <td>245725.000000</td>\n",
              "      <td>245725.000000</td>\n",
              "      <td>245725.000000</td>\n",
              "      <td>245725.000000</td>\n",
              "      <td>245725.000000</td>\n",
              "      <td>245725.000000</td>\n",
              "    </tr>\n",
              "    <tr>\n",
              "      <th>mean</th>\n",
              "      <td>0.546127</td>\n",
              "      <td>43.856307</td>\n",
              "      <td>46.959141</td>\n",
              "      <td>1.173845</td>\n",
              "      <td>1.128403e+06</td>\n",
              "      <td>0.388381</td>\n",
              "      <td>0.237208</td>\n",
              "      <td>0.010854</td>\n",
              "      <td>0.285575</td>\n",
              "      <td>0.293006</td>\n",
              "      <td>0.410565</td>\n",
              "      <td>0.422090</td>\n",
              "      <td>0.275617</td>\n",
              "      <td>0.279630</td>\n",
              "      <td>0.022664</td>\n",
              "      <td>0.010158</td>\n",
              "      <td>0.024214</td>\n",
              "      <td>0.017442</td>\n",
              "      <td>0.007561</td>\n",
              "      <td>0.109228</td>\n",
              "      <td>0.008212</td>\n",
              "      <td>0.011586</td>\n",
              "      <td>0.024829</td>\n",
              "      <td>0.007940</td>\n",
              "      <td>0.010524</td>\n",
              "      <td>0.012656</td>\n",
              "      <td>0.031063</td>\n",
              "      <td>0.007276</td>\n",
              "      <td>0.015005</td>\n",
              "      <td>0.011366</td>\n",
              "      <td>0.006292</td>\n",
              "      <td>0.006422</td>\n",
              "      <td>0.006092</td>\n",
              "      <td>0.146237</td>\n",
              "      <td>0.031999</td>\n",
              "      <td>0.031417</td>\n",
              "      <td>0.006275</td>\n",
              "      <td>0.021373</td>\n",
              "      <td>0.018301</td>\n",
              "      <td>0.021512</td>\n",
              "      <td>0.013206</td>\n",
              "      <td>0.011248</td>\n",
              "      <td>0.052197</td>\n",
              "      <td>0.007415</td>\n",
              "      <td>0.016181</td>\n",
              "      <td>0.051989</td>\n",
              "      <td>0.020726</td>\n",
              "      <td>0.023722</td>\n",
              "      <td>0.119711</td>\n",
              "      <td>0.078624</td>\n",
              "    </tr>\n",
              "    <tr>\n",
              "      <th>std</th>\n",
              "      <td>0.497869</td>\n",
              "      <td>14.828672</td>\n",
              "      <td>32.353136</td>\n",
              "      <td>0.618309</td>\n",
              "      <td>8.529364e+05</td>\n",
              "      <td>0.487383</td>\n",
              "      <td>0.425372</td>\n",
              "      <td>0.103614</td>\n",
              "      <td>0.451689</td>\n",
              "      <td>0.455142</td>\n",
              "      <td>0.491937</td>\n",
              "      <td>0.493894</td>\n",
              "      <td>0.446826</td>\n",
              "      <td>0.448818</td>\n",
              "      <td>0.148829</td>\n",
              "      <td>0.100272</td>\n",
              "      <td>0.153713</td>\n",
              "      <td>0.130913</td>\n",
              "      <td>0.086627</td>\n",
              "      <td>0.311925</td>\n",
              "      <td>0.090250</td>\n",
              "      <td>0.107014</td>\n",
              "      <td>0.155603</td>\n",
              "      <td>0.088751</td>\n",
              "      <td>0.102045</td>\n",
              "      <td>0.111787</td>\n",
              "      <td>0.173489</td>\n",
              "      <td>0.084991</td>\n",
              "      <td>0.121571</td>\n",
              "      <td>0.106006</td>\n",
              "      <td>0.079070</td>\n",
              "      <td>0.079879</td>\n",
              "      <td>0.077814</td>\n",
              "      <td>0.353344</td>\n",
              "      <td>0.175998</td>\n",
              "      <td>0.174443</td>\n",
              "      <td>0.078968</td>\n",
              "      <td>0.144626</td>\n",
              "      <td>0.134038</td>\n",
              "      <td>0.145083</td>\n",
              "      <td>0.114156</td>\n",
              "      <td>0.105460</td>\n",
              "      <td>0.222424</td>\n",
              "      <td>0.085790</td>\n",
              "      <td>0.126170</td>\n",
              "      <td>0.222005</td>\n",
              "      <td>0.142467</td>\n",
              "      <td>0.152181</td>\n",
              "      <td>0.324624</td>\n",
              "      <td>0.269152</td>\n",
              "    </tr>\n",
              "    <tr>\n",
              "      <th>min</th>\n",
              "      <td>0.000000</td>\n",
              "      <td>23.000000</td>\n",
              "      <td>7.000000</td>\n",
              "      <td>0.000000</td>\n",
              "      <td>2.079000e+04</td>\n",
              "      <td>0.000000</td>\n",
              "      <td>0.000000</td>\n",
              "      <td>0.000000</td>\n",
              "      <td>0.000000</td>\n",
              "      <td>0.000000</td>\n",
              "      <td>0.000000</td>\n",
              "      <td>0.000000</td>\n",
              "      <td>0.000000</td>\n",
              "      <td>0.000000</td>\n",
              "      <td>0.000000</td>\n",
              "      <td>0.000000</td>\n",
              "      <td>0.000000</td>\n",
              "      <td>0.000000</td>\n",
              "      <td>0.000000</td>\n",
              "      <td>0.000000</td>\n",
              "      <td>0.000000</td>\n",
              "      <td>0.000000</td>\n",
              "      <td>0.000000</td>\n",
              "      <td>0.000000</td>\n",
              "      <td>0.000000</td>\n",
              "      <td>0.000000</td>\n",
              "      <td>0.000000</td>\n",
              "      <td>0.000000</td>\n",
              "      <td>0.000000</td>\n",
              "      <td>0.000000</td>\n",
              "      <td>0.000000</td>\n",
              "      <td>0.000000</td>\n",
              "      <td>0.000000</td>\n",
              "      <td>0.000000</td>\n",
              "      <td>0.000000</td>\n",
              "      <td>0.000000</td>\n",
              "      <td>0.000000</td>\n",
              "      <td>0.000000</td>\n",
              "      <td>0.000000</td>\n",
              "      <td>0.000000</td>\n",
              "      <td>0.000000</td>\n",
              "      <td>0.000000</td>\n",
              "      <td>0.000000</td>\n",
              "      <td>0.000000</td>\n",
              "      <td>0.000000</td>\n",
              "      <td>0.000000</td>\n",
              "      <td>0.000000</td>\n",
              "      <td>0.000000</td>\n",
              "      <td>0.000000</td>\n",
              "      <td>0.000000</td>\n",
              "    </tr>\n",
              "    <tr>\n",
              "      <th>25%</th>\n",
              "      <td>0.000000</td>\n",
              "      <td>30.000000</td>\n",
              "      <td>20.000000</td>\n",
              "      <td>1.000000</td>\n",
              "      <td>6.043100e+05</td>\n",
              "      <td>0.000000</td>\n",
              "      <td>0.000000</td>\n",
              "      <td>0.000000</td>\n",
              "      <td>0.000000</td>\n",
              "      <td>0.000000</td>\n",
              "      <td>0.000000</td>\n",
              "      <td>0.000000</td>\n",
              "      <td>0.000000</td>\n",
              "      <td>0.000000</td>\n",
              "      <td>0.000000</td>\n",
              "      <td>0.000000</td>\n",
              "      <td>0.000000</td>\n",
              "      <td>0.000000</td>\n",
              "      <td>0.000000</td>\n",
              "      <td>0.000000</td>\n",
              "      <td>0.000000</td>\n",
              "      <td>0.000000</td>\n",
              "      <td>0.000000</td>\n",
              "      <td>0.000000</td>\n",
              "      <td>0.000000</td>\n",
              "      <td>0.000000</td>\n",
              "      <td>0.000000</td>\n",
              "      <td>0.000000</td>\n",
              "      <td>0.000000</td>\n",
              "      <td>0.000000</td>\n",
              "      <td>0.000000</td>\n",
              "      <td>0.000000</td>\n",
              "      <td>0.000000</td>\n",
              "      <td>0.000000</td>\n",
              "      <td>0.000000</td>\n",
              "      <td>0.000000</td>\n",
              "      <td>0.000000</td>\n",
              "      <td>0.000000</td>\n",
              "      <td>0.000000</td>\n",
              "      <td>0.000000</td>\n",
              "      <td>0.000000</td>\n",
              "      <td>0.000000</td>\n",
              "      <td>0.000000</td>\n",
              "      <td>0.000000</td>\n",
              "      <td>0.000000</td>\n",
              "      <td>0.000000</td>\n",
              "      <td>0.000000</td>\n",
              "      <td>0.000000</td>\n",
              "      <td>0.000000</td>\n",
              "      <td>0.000000</td>\n",
              "    </tr>\n",
              "    <tr>\n",
              "      <th>50%</th>\n",
              "      <td>1.000000</td>\n",
              "      <td>43.000000</td>\n",
              "      <td>32.000000</td>\n",
              "      <td>1.000000</td>\n",
              "      <td>8.946010e+05</td>\n",
              "      <td>0.000000</td>\n",
              "      <td>0.000000</td>\n",
              "      <td>0.000000</td>\n",
              "      <td>0.000000</td>\n",
              "      <td>0.000000</td>\n",
              "      <td>0.000000</td>\n",
              "      <td>0.000000</td>\n",
              "      <td>0.000000</td>\n",
              "      <td>0.000000</td>\n",
              "      <td>0.000000</td>\n",
              "      <td>0.000000</td>\n",
              "      <td>0.000000</td>\n",
              "      <td>0.000000</td>\n",
              "      <td>0.000000</td>\n",
              "      <td>0.000000</td>\n",
              "      <td>0.000000</td>\n",
              "      <td>0.000000</td>\n",
              "      <td>0.000000</td>\n",
              "      <td>0.000000</td>\n",
              "      <td>0.000000</td>\n",
              "      <td>0.000000</td>\n",
              "      <td>0.000000</td>\n",
              "      <td>0.000000</td>\n",
              "      <td>0.000000</td>\n",
              "      <td>0.000000</td>\n",
              "      <td>0.000000</td>\n",
              "      <td>0.000000</td>\n",
              "      <td>0.000000</td>\n",
              "      <td>0.000000</td>\n",
              "      <td>0.000000</td>\n",
              "      <td>0.000000</td>\n",
              "      <td>0.000000</td>\n",
              "      <td>0.000000</td>\n",
              "      <td>0.000000</td>\n",
              "      <td>0.000000</td>\n",
              "      <td>0.000000</td>\n",
              "      <td>0.000000</td>\n",
              "      <td>0.000000</td>\n",
              "      <td>0.000000</td>\n",
              "      <td>0.000000</td>\n",
              "      <td>0.000000</td>\n",
              "      <td>0.000000</td>\n",
              "      <td>0.000000</td>\n",
              "      <td>0.000000</td>\n",
              "      <td>0.000000</td>\n",
              "    </tr>\n",
              "    <tr>\n",
              "      <th>75%</th>\n",
              "      <td>1.000000</td>\n",
              "      <td>54.000000</td>\n",
              "      <td>73.000000</td>\n",
              "      <td>2.000000</td>\n",
              "      <td>1.366666e+06</td>\n",
              "      <td>1.000000</td>\n",
              "      <td>0.000000</td>\n",
              "      <td>0.000000</td>\n",
              "      <td>1.000000</td>\n",
              "      <td>1.000000</td>\n",
              "      <td>1.000000</td>\n",
              "      <td>1.000000</td>\n",
              "      <td>1.000000</td>\n",
              "      <td>1.000000</td>\n",
              "      <td>0.000000</td>\n",
              "      <td>0.000000</td>\n",
              "      <td>0.000000</td>\n",
              "      <td>0.000000</td>\n",
              "      <td>0.000000</td>\n",
              "      <td>0.000000</td>\n",
              "      <td>0.000000</td>\n",
              "      <td>0.000000</td>\n",
              "      <td>0.000000</td>\n",
              "      <td>0.000000</td>\n",
              "      <td>0.000000</td>\n",
              "      <td>0.000000</td>\n",
              "      <td>0.000000</td>\n",
              "      <td>0.000000</td>\n",
              "      <td>0.000000</td>\n",
              "      <td>0.000000</td>\n",
              "      <td>0.000000</td>\n",
              "      <td>0.000000</td>\n",
              "      <td>0.000000</td>\n",
              "      <td>0.000000</td>\n",
              "      <td>0.000000</td>\n",
              "      <td>0.000000</td>\n",
              "      <td>0.000000</td>\n",
              "      <td>0.000000</td>\n",
              "      <td>0.000000</td>\n",
              "      <td>0.000000</td>\n",
              "      <td>0.000000</td>\n",
              "      <td>0.000000</td>\n",
              "      <td>0.000000</td>\n",
              "      <td>0.000000</td>\n",
              "      <td>0.000000</td>\n",
              "      <td>0.000000</td>\n",
              "      <td>0.000000</td>\n",
              "      <td>0.000000</td>\n",
              "      <td>0.000000</td>\n",
              "      <td>0.000000</td>\n",
              "    </tr>\n",
              "    <tr>\n",
              "      <th>max</th>\n",
              "      <td>1.000000</td>\n",
              "      <td>85.000000</td>\n",
              "      <td>135.000000</td>\n",
              "      <td>2.000000</td>\n",
              "      <td>1.035201e+07</td>\n",
              "      <td>1.000000</td>\n",
              "      <td>1.000000</td>\n",
              "      <td>1.000000</td>\n",
              "      <td>1.000000</td>\n",
              "      <td>1.000000</td>\n",
              "      <td>1.000000</td>\n",
              "      <td>1.000000</td>\n",
              "      <td>1.000000</td>\n",
              "      <td>1.000000</td>\n",
              "      <td>1.000000</td>\n",
              "      <td>1.000000</td>\n",
              "      <td>1.000000</td>\n",
              "      <td>1.000000</td>\n",
              "      <td>1.000000</td>\n",
              "      <td>1.000000</td>\n",
              "      <td>1.000000</td>\n",
              "      <td>1.000000</td>\n",
              "      <td>1.000000</td>\n",
              "      <td>1.000000</td>\n",
              "      <td>1.000000</td>\n",
              "      <td>1.000000</td>\n",
              "      <td>1.000000</td>\n",
              "      <td>1.000000</td>\n",
              "      <td>1.000000</td>\n",
              "      <td>1.000000</td>\n",
              "      <td>1.000000</td>\n",
              "      <td>1.000000</td>\n",
              "      <td>1.000000</td>\n",
              "      <td>1.000000</td>\n",
              "      <td>1.000000</td>\n",
              "      <td>1.000000</td>\n",
              "      <td>1.000000</td>\n",
              "      <td>1.000000</td>\n",
              "      <td>1.000000</td>\n",
              "      <td>1.000000</td>\n",
              "      <td>1.000000</td>\n",
              "      <td>1.000000</td>\n",
              "      <td>1.000000</td>\n",
              "      <td>1.000000</td>\n",
              "      <td>1.000000</td>\n",
              "      <td>1.000000</td>\n",
              "      <td>1.000000</td>\n",
              "      <td>1.000000</td>\n",
              "      <td>1.000000</td>\n",
              "      <td>1.000000</td>\n",
              "    </tr>\n",
              "  </tbody>\n",
              "</table>\n",
              "</div>"
            ],
            "text/plain": [
              "              Gender            Age  ...       (RG283,)       (RG284,)\n",
              "count  245725.000000  245725.000000  ...  245725.000000  245725.000000\n",
              "mean        0.546127      43.856307  ...       0.119711       0.078624\n",
              "std         0.497869      14.828672  ...       0.324624       0.269152\n",
              "min         0.000000      23.000000  ...       0.000000       0.000000\n",
              "25%         0.000000      30.000000  ...       0.000000       0.000000\n",
              "50%         1.000000      43.000000  ...       0.000000       0.000000\n",
              "75%         1.000000      54.000000  ...       0.000000       0.000000\n",
              "max         1.000000      85.000000  ...       1.000000       1.000000\n",
              "\n",
              "[8 rows x 50 columns]"
            ]
          },
          "metadata": {
            "tags": []
          },
          "execution_count": 35
        }
      ]
    },
    {
      "cell_type": "code",
      "metadata": {
        "id": "-ralW4rqHf4K"
      },
      "source": [
        "#@title Processing test data"
      ],
      "execution_count": 38,
      "outputs": []
    },
    {
      "cell_type": "code",
      "metadata": {
        "id": "kgYStgrQNH-w"
      },
      "source": [
        "test['Credit_Product']= test['Credit_Product'].fillna('NA')\n",
        "test= test.reset_index(drop=True)"
      ],
      "execution_count": 39,
      "outputs": []
    },
    {
      "cell_type": "code",
      "metadata": {
        "colab": {
          "base_uri": "https://localhost:8080/",
          "height": 224
        },
        "id": "bhHkLDt7NoZq",
        "outputId": "6c6ca3cc-f621-4944-eb0c-baa47e5fe021"
      },
      "source": [
        "# Encoding the categorical data\n",
        "from sklearn.preprocessing import OneHotEncoder\n",
        "\n",
        "oe_style = OneHotEncoder()\n",
        "oe_results = oe_style.fit_transform(test[[\"Occupation\"]])\n",
        "test= test.join(pd.DataFrame(oe_results.toarray(), columns=oe_style.categories_))\n",
        "test.head()"
      ],
      "execution_count": 41,
      "outputs": [
        {
          "output_type": "execute_result",
          "data": {
            "text/html": [
              "<div>\n",
              "<style scoped>\n",
              "    .dataframe tbody tr th:only-of-type {\n",
              "        vertical-align: middle;\n",
              "    }\n",
              "\n",
              "    .dataframe tbody tr th {\n",
              "        vertical-align: top;\n",
              "    }\n",
              "\n",
              "    .dataframe thead th {\n",
              "        text-align: right;\n",
              "    }\n",
              "</style>\n",
              "<table border=\"1\" class=\"dataframe\">\n",
              "  <thead>\n",
              "    <tr style=\"text-align: right;\">\n",
              "      <th></th>\n",
              "      <th>ID</th>\n",
              "      <th>Gender</th>\n",
              "      <th>Age</th>\n",
              "      <th>Region_Code</th>\n",
              "      <th>Occupation</th>\n",
              "      <th>Channel_Code</th>\n",
              "      <th>Vintage</th>\n",
              "      <th>Credit_Product</th>\n",
              "      <th>Avg_Account_Balance</th>\n",
              "      <th>Is_Active</th>\n",
              "      <th>(Entrepreneur,)</th>\n",
              "      <th>(Other,)</th>\n",
              "      <th>(Salaried,)</th>\n",
              "      <th>(Self_Employed,)</th>\n",
              "    </tr>\n",
              "  </thead>\n",
              "  <tbody>\n",
              "    <tr>\n",
              "      <th>0</th>\n",
              "      <td>VBENBARO</td>\n",
              "      <td>Male</td>\n",
              "      <td>29</td>\n",
              "      <td>RG254</td>\n",
              "      <td>Other</td>\n",
              "      <td>X1</td>\n",
              "      <td>25</td>\n",
              "      <td>Yes</td>\n",
              "      <td>742366</td>\n",
              "      <td>No</td>\n",
              "      <td>0.0</td>\n",
              "      <td>1.0</td>\n",
              "      <td>0.0</td>\n",
              "      <td>0.0</td>\n",
              "    </tr>\n",
              "    <tr>\n",
              "      <th>1</th>\n",
              "      <td>CCMEWNKY</td>\n",
              "      <td>Male</td>\n",
              "      <td>43</td>\n",
              "      <td>RG268</td>\n",
              "      <td>Other</td>\n",
              "      <td>X2</td>\n",
              "      <td>49</td>\n",
              "      <td>NA</td>\n",
              "      <td>925537</td>\n",
              "      <td>No</td>\n",
              "      <td>0.0</td>\n",
              "      <td>1.0</td>\n",
              "      <td>0.0</td>\n",
              "      <td>0.0</td>\n",
              "    </tr>\n",
              "    <tr>\n",
              "      <th>2</th>\n",
              "      <td>VK3KGA9M</td>\n",
              "      <td>Male</td>\n",
              "      <td>31</td>\n",
              "      <td>RG270</td>\n",
              "      <td>Salaried</td>\n",
              "      <td>X1</td>\n",
              "      <td>14</td>\n",
              "      <td>No</td>\n",
              "      <td>215949</td>\n",
              "      <td>No</td>\n",
              "      <td>0.0</td>\n",
              "      <td>0.0</td>\n",
              "      <td>1.0</td>\n",
              "      <td>0.0</td>\n",
              "    </tr>\n",
              "    <tr>\n",
              "      <th>3</th>\n",
              "      <td>TT8RPZVC</td>\n",
              "      <td>Male</td>\n",
              "      <td>29</td>\n",
              "      <td>RG272</td>\n",
              "      <td>Other</td>\n",
              "      <td>X1</td>\n",
              "      <td>33</td>\n",
              "      <td>No</td>\n",
              "      <td>868070</td>\n",
              "      <td>No</td>\n",
              "      <td>0.0</td>\n",
              "      <td>1.0</td>\n",
              "      <td>0.0</td>\n",
              "      <td>0.0</td>\n",
              "    </tr>\n",
              "    <tr>\n",
              "      <th>4</th>\n",
              "      <td>SHQZEYTZ</td>\n",
              "      <td>Female</td>\n",
              "      <td>29</td>\n",
              "      <td>RG270</td>\n",
              "      <td>Other</td>\n",
              "      <td>X1</td>\n",
              "      <td>19</td>\n",
              "      <td>No</td>\n",
              "      <td>657087</td>\n",
              "      <td>No</td>\n",
              "      <td>0.0</td>\n",
              "      <td>1.0</td>\n",
              "      <td>0.0</td>\n",
              "      <td>0.0</td>\n",
              "    </tr>\n",
              "  </tbody>\n",
              "</table>\n",
              "</div>"
            ],
            "text/plain": [
              "         ID  Gender  Age  ... (Other,) (Salaried,) (Self_Employed,)\n",
              "0  VBENBARO    Male   29  ...      1.0         0.0              0.0\n",
              "1  CCMEWNKY    Male   43  ...      1.0         0.0              0.0\n",
              "2  VK3KGA9M    Male   31  ...      0.0         1.0              0.0\n",
              "3  TT8RPZVC    Male   29  ...      1.0         0.0              0.0\n",
              "4  SHQZEYTZ  Female   29  ...      1.0         0.0              0.0\n",
              "\n",
              "[5 rows x 14 columns]"
            ]
          },
          "metadata": {
            "tags": []
          },
          "execution_count": 41
        }
      ]
    },
    {
      "cell_type": "code",
      "metadata": {
        "colab": {
          "base_uri": "https://localhost:8080/",
          "height": 224
        },
        "id": "AVIH2xw2NtFw",
        "outputId": "10b09b1b-d519-42a1-8740-9e98f6970af8"
      },
      "source": [
        "# Encoding the categorical data\n",
        "from sklearn.preprocessing import OneHotEncoder\n",
        "\n",
        "oe_style = OneHotEncoder()\n",
        "oe_results = oe_style.fit_transform(test[[\"Channel_Code\"]])\n",
        "test = test.join(pd.DataFrame(oe_results.toarray(), columns=oe_style.categories_))\n",
        "test.head()"
      ],
      "execution_count": 42,
      "outputs": [
        {
          "output_type": "execute_result",
          "data": {
            "text/html": [
              "<div>\n",
              "<style scoped>\n",
              "    .dataframe tbody tr th:only-of-type {\n",
              "        vertical-align: middle;\n",
              "    }\n",
              "\n",
              "    .dataframe tbody tr th {\n",
              "        vertical-align: top;\n",
              "    }\n",
              "\n",
              "    .dataframe thead th {\n",
              "        text-align: right;\n",
              "    }\n",
              "</style>\n",
              "<table border=\"1\" class=\"dataframe\">\n",
              "  <thead>\n",
              "    <tr style=\"text-align: right;\">\n",
              "      <th></th>\n",
              "      <th>ID</th>\n",
              "      <th>Gender</th>\n",
              "      <th>Age</th>\n",
              "      <th>Region_Code</th>\n",
              "      <th>Occupation</th>\n",
              "      <th>Channel_Code</th>\n",
              "      <th>Vintage</th>\n",
              "      <th>Credit_Product</th>\n",
              "      <th>Avg_Account_Balance</th>\n",
              "      <th>Is_Active</th>\n",
              "      <th>(Entrepreneur,)</th>\n",
              "      <th>(Other,)</th>\n",
              "      <th>(Salaried,)</th>\n",
              "      <th>(Self_Employed,)</th>\n",
              "      <th>(X1,)</th>\n",
              "      <th>(X2,)</th>\n",
              "      <th>(X3,)</th>\n",
              "      <th>(X4,)</th>\n",
              "    </tr>\n",
              "  </thead>\n",
              "  <tbody>\n",
              "    <tr>\n",
              "      <th>0</th>\n",
              "      <td>VBENBARO</td>\n",
              "      <td>Male</td>\n",
              "      <td>29</td>\n",
              "      <td>RG254</td>\n",
              "      <td>Other</td>\n",
              "      <td>X1</td>\n",
              "      <td>25</td>\n",
              "      <td>Yes</td>\n",
              "      <td>742366</td>\n",
              "      <td>No</td>\n",
              "      <td>0.0</td>\n",
              "      <td>1.0</td>\n",
              "      <td>0.0</td>\n",
              "      <td>0.0</td>\n",
              "      <td>1.0</td>\n",
              "      <td>0.0</td>\n",
              "      <td>0.0</td>\n",
              "      <td>0.0</td>\n",
              "    </tr>\n",
              "    <tr>\n",
              "      <th>1</th>\n",
              "      <td>CCMEWNKY</td>\n",
              "      <td>Male</td>\n",
              "      <td>43</td>\n",
              "      <td>RG268</td>\n",
              "      <td>Other</td>\n",
              "      <td>X2</td>\n",
              "      <td>49</td>\n",
              "      <td>NA</td>\n",
              "      <td>925537</td>\n",
              "      <td>No</td>\n",
              "      <td>0.0</td>\n",
              "      <td>1.0</td>\n",
              "      <td>0.0</td>\n",
              "      <td>0.0</td>\n",
              "      <td>0.0</td>\n",
              "      <td>1.0</td>\n",
              "      <td>0.0</td>\n",
              "      <td>0.0</td>\n",
              "    </tr>\n",
              "    <tr>\n",
              "      <th>2</th>\n",
              "      <td>VK3KGA9M</td>\n",
              "      <td>Male</td>\n",
              "      <td>31</td>\n",
              "      <td>RG270</td>\n",
              "      <td>Salaried</td>\n",
              "      <td>X1</td>\n",
              "      <td>14</td>\n",
              "      <td>No</td>\n",
              "      <td>215949</td>\n",
              "      <td>No</td>\n",
              "      <td>0.0</td>\n",
              "      <td>0.0</td>\n",
              "      <td>1.0</td>\n",
              "      <td>0.0</td>\n",
              "      <td>1.0</td>\n",
              "      <td>0.0</td>\n",
              "      <td>0.0</td>\n",
              "      <td>0.0</td>\n",
              "    </tr>\n",
              "    <tr>\n",
              "      <th>3</th>\n",
              "      <td>TT8RPZVC</td>\n",
              "      <td>Male</td>\n",
              "      <td>29</td>\n",
              "      <td>RG272</td>\n",
              "      <td>Other</td>\n",
              "      <td>X1</td>\n",
              "      <td>33</td>\n",
              "      <td>No</td>\n",
              "      <td>868070</td>\n",
              "      <td>No</td>\n",
              "      <td>0.0</td>\n",
              "      <td>1.0</td>\n",
              "      <td>0.0</td>\n",
              "      <td>0.0</td>\n",
              "      <td>1.0</td>\n",
              "      <td>0.0</td>\n",
              "      <td>0.0</td>\n",
              "      <td>0.0</td>\n",
              "    </tr>\n",
              "    <tr>\n",
              "      <th>4</th>\n",
              "      <td>SHQZEYTZ</td>\n",
              "      <td>Female</td>\n",
              "      <td>29</td>\n",
              "      <td>RG270</td>\n",
              "      <td>Other</td>\n",
              "      <td>X1</td>\n",
              "      <td>19</td>\n",
              "      <td>No</td>\n",
              "      <td>657087</td>\n",
              "      <td>No</td>\n",
              "      <td>0.0</td>\n",
              "      <td>1.0</td>\n",
              "      <td>0.0</td>\n",
              "      <td>0.0</td>\n",
              "      <td>1.0</td>\n",
              "      <td>0.0</td>\n",
              "      <td>0.0</td>\n",
              "      <td>0.0</td>\n",
              "    </tr>\n",
              "  </tbody>\n",
              "</table>\n",
              "</div>"
            ],
            "text/plain": [
              "         ID  Gender  Age Region_Code  ... (X1,) (X2,)  (X3,) (X4,)\n",
              "0  VBENBARO    Male   29       RG254  ...   1.0   0.0    0.0   0.0\n",
              "1  CCMEWNKY    Male   43       RG268  ...   0.0   1.0    0.0   0.0\n",
              "2  VK3KGA9M    Male   31       RG270  ...   1.0   0.0    0.0   0.0\n",
              "3  TT8RPZVC    Male   29       RG272  ...   1.0   0.0    0.0   0.0\n",
              "4  SHQZEYTZ  Female   29       RG270  ...   1.0   0.0    0.0   0.0\n",
              "\n",
              "[5 rows x 18 columns]"
            ]
          },
          "metadata": {
            "tags": []
          },
          "execution_count": 42
        }
      ]
    },
    {
      "cell_type": "code",
      "metadata": {
        "id": "36EWUvpTN-yL"
      },
      "source": [
        "# Encoding the categorical data\n",
        "from sklearn.preprocessing import OneHotEncoder\n",
        "\n",
        "oe_style = OneHotEncoder()\n",
        "oe_results = oe_style.fit_transform(test[[\"Region_Code\"]])\n",
        "test = test.join(pd.DataFrame(oe_results.toarray(), columns=oe_style.categories_))\n"
      ],
      "execution_count": 43,
      "outputs": []
    },
    {
      "cell_type": "code",
      "metadata": {
        "colab": {
          "base_uri": "https://localhost:8080/"
        },
        "id": "W9SOlNikOHfh",
        "outputId": "89875339-9b5e-4bfc-c32b-296ba4c1f164"
      },
      "source": [
        "from sklearn.preprocessing import LabelEncoder\n",
        "\n",
        "lb_make = LabelEncoder()\n",
        "test['Gender'] = lb_make.fit_transform(test['Gender'])\n",
        "test['Is_Active'] = lb_make.fit_transform(test['Is_Active'])\n",
        "test['Credit_Product'] = lb_make.fit_transform(test['Credit_Product'])\n",
        "test.shape"
      ],
      "execution_count": 44,
      "outputs": [
        {
          "output_type": "execute_result",
          "data": {
            "text/plain": [
              "(105312, 53)"
            ]
          },
          "metadata": {
            "tags": []
          },
          "execution_count": 44
        }
      ]
    },
    {
      "cell_type": "code",
      "metadata": {
        "colab": {
          "base_uri": "https://localhost:8080/"
        },
        "id": "0eZXvxsXOUdn",
        "outputId": "ad45ba05-499d-478e-e8a9-d6afce1d7475"
      },
      "source": [
        "test.shape"
      ],
      "execution_count": 46,
      "outputs": [
        {
          "output_type": "execute_result",
          "data": {
            "text/plain": [
              "(105312, 53)"
            ]
          },
          "metadata": {
            "tags": []
          },
          "execution_count": 46
        }
      ]
    },
    {
      "cell_type": "code",
      "metadata": {
        "id": "9VyL8eYJOewj"
      },
      "source": [
        "te = test.drop(['ID','Region_Code','Occupation','Channel_Code'],axis = 1)"
      ],
      "execution_count": 47,
      "outputs": []
    },
    {
      "cell_type": "code",
      "metadata": {
        "id": "YnjYmdV9Ovn_"
      },
      "source": [
        "test_pred = forest.predict(te)"
      ],
      "execution_count": 49,
      "outputs": []
    },
    {
      "cell_type": "code",
      "metadata": {
        "id": "9EwoXoTxOy_g"
      },
      "source": [
        "test_pred\n",
        "te_pred = pd.DataFrame(test_pred, columns = ['Is_Lead'])"
      ],
      "execution_count": 57,
      "outputs": []
    },
    {
      "cell_type": "code",
      "metadata": {
        "id": "HW8xoYDsPBY5"
      },
      "source": [
        "submission = test['ID']"
      ],
      "execution_count": 51,
      "outputs": []
    },
    {
      "cell_type": "code",
      "metadata": {
        "colab": {
          "base_uri": "https://localhost:8080/"
        },
        "id": "TXWvZxAjPaIj",
        "outputId": "400f18ca-bcc0-400e-9abb-3cbe14c56ac5"
      },
      "source": [
        "submission"
      ],
      "execution_count": 52,
      "outputs": [
        {
          "output_type": "execute_result",
          "data": {
            "text/plain": [
              "0         VBENBARO\n",
              "1         CCMEWNKY\n",
              "2         VK3KGA9M\n",
              "3         TT8RPZVC\n",
              "4         SHQZEYTZ\n",
              "            ...   \n",
              "105307    DBENJOYI\n",
              "105308    CWQ72DWS\n",
              "105309    HDESC8GU\n",
              "105310    2PW4SFCA\n",
              "105311    F2NOYPPZ\n",
              "Name: ID, Length: 105312, dtype: object"
            ]
          },
          "metadata": {
            "tags": []
          },
          "execution_count": 52
        }
      ]
    },
    {
      "cell_type": "code",
      "metadata": {
        "id": "MqW4wPE1PcHO"
      },
      "source": [
        "final=pd.concat([submission, te_pred], axis = 1)"
      ],
      "execution_count": 63,
      "outputs": []
    },
    {
      "cell_type": "code",
      "metadata": {
        "colab": {
          "base_uri": "https://localhost:8080/"
        },
        "id": "f4PrLdtVP5JJ",
        "outputId": "3f5f3541-b02d-4b76-b806-135c9fbdf112"
      },
      "source": [
        "final.shape"
      ],
      "execution_count": 65,
      "outputs": [
        {
          "output_type": "execute_result",
          "data": {
            "text/plain": [
              "(105312, 2)"
            ]
          },
          "metadata": {
            "tags": []
          },
          "execution_count": 65
        }
      ]
    },
    {
      "cell_type": "code",
      "metadata": {
        "id": "tiQftJJjQbTe"
      },
      "source": [
        "final.to_csv ('final.csv', index = False, header=True)\n",
        "!cp final.csv \"/content/drive/MyDrive/Colab Notebooks/Jobathon\""
      ],
      "execution_count": 71,
      "outputs": []
    },
    {
      "cell_type": "code",
      "metadata": {
        "id": "LkOjkSCVS7qH"
      },
      "source": [
        ""
      ],
      "execution_count": null,
      "outputs": []
    }
  ]
}